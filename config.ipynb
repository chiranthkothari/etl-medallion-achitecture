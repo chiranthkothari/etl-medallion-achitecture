{
 "cells": [
  {
   "cell_type": "markdown",
   "metadata": {
    "application/vnd.databricks.v1+cell": {
     "cellMetadata": {
      "byteLimit": 2048000,
      "rowLimit": 10000
     },
     "inputWidgets": {},
     "nuid": "c8304e23-0189-4451-91c9-6b5cfd05707c",
     "showTitle": false,
     "tableResultSettingsMap": {},
     "title": ""
    }
   },
   "source": [
    "### Azure Data Lake Connection Setup\n",
    "\n",
    "#### Description\n",
    "This notebook sets up Spark configurations to securely connect Databricks with an Azure Data Lake Storage (ADLS) account.\n",
    "It establishes the necessary credentials and Spark settings required for reading from and writing to the storage account.\n",
    "\n",
    "#### Key Actions\n",
    "- Sets up Spark configuration parameters (e.g., account keys or service principal credentials).\n",
    "- Enables access to containers and folders within the Azure Data Lake.\n",
    "\n",
    "#### Usage\n",
    "1. Update the configuration section with the appropriate storage account name, container name, and credentials.\n",
    "2. Run this notebook before executing any data pipelines or notebooks that interact with Azure Data Lake.\n",
    "3. This configuration remains active for the duration of the current Spark session."
   ]
  },
  {
   "cell_type": "code",
   "execution_count": 0,
   "metadata": {
    "application/vnd.databricks.v1+cell": {
     "cellMetadata": {},
     "inputWidgets": {},
     "nuid": "877ab6c2-60e2-4449-8dc2-e4f01fe6bd54",
     "showTitle": false,
     "tableResultSettingsMap": {},
     "title": ""
    }
   },
   "outputs": [],
   "source": [
    "spark.conf.set(\"fs.azure.account.auth.type.<storage-account>.dfs.core.windows.net\", \"OAuth\")\n",
    "spark.conf.set(\"fs.azure.account.oauth.provider.type.<storage-account>.dfs.core.windows.net\", \"org.apache.hadoop.fs.azurebfs.oauth2.ClientCredsTokenProvider\")\n",
    "spark.conf.set(\"fs.azure.account.oauth2.client.id.<storage-account>.dfs.core.windows.net\", \"22443162-6296-4532-9eb0-57e47d622d83\")\n",
    "spark.conf.set(\"fs.azure.account.oauth2.client.secret.<storage-account>.dfs.core.windows.net\", \"<secret-id>\")\n",
    "spark.conf.set(\"fs.azure.account.oauth2.client.endpoint.<storage-account>.dfs.core.windows.net\", \"https://login.microsoftonline.com/<tenant-id>/oauth2/token\")"
   ]
  }
 ],
 "metadata": {
  "application/vnd.databricks.v1+notebook": {
   "computePreferences": null,
   "dashboards": [],
   "environmentMetadata": {
    "base_environment": "",
    "environment_version": "2"
   },
   "inputWidgetPreferences": null,
   "language": "python",
   "notebookMetadata": {
    "pythonIndentUnit": 4
   },
   "notebookName": "config",
   "widgets": {}
  },
  "language_info": {
   "name": "python"
  }
 },
 "nbformat": 4,
 "nbformat_minor": 0
}
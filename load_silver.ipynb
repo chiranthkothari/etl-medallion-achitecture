{
 "cells": [
  {
   "cell_type": "code",
   "execution_count": 0,
   "metadata": {
    "application/vnd.databricks.v1+cell": {
     "cellMetadata": {
      "byteLimit": 2048000,
      "rowLimit": 10000
     },
     "inputWidgets": {},
     "nuid": "3d2d14d9-dd71-4a49-955f-a5010b00112c",
     "showTitle": false,
     "tableResultSettingsMap": {},
     "title": ""
    }
   },
   "outputs": [],
   "source": [
    "from pyspark.sql.functions import *\n",
    "from pyspark.sql.types import *\n",
    "from pyspark.sql.window import Window"
   ]
  },
  {
   "cell_type": "markdown",
   "metadata": {
    "application/vnd.databricks.v1+cell": {
     "cellMetadata": {},
     "inputWidgets": {},
     "nuid": "15c43dd9-d613-4a89-8139-bcb5fccfdabb",
     "showTitle": false,
     "tableResultSettingsMap": {},
     "title": ""
    }
   },
   "source": [
    "### Transform `crm_cust_info` table and save to silver"
   ]
  },
  {
   "cell_type": "code",
   "execution_count": 0,
   "metadata": {
    "application/vnd.databricks.v1+cell": {
     "cellMetadata": {
      "byteLimit": 2048000,
      "rowLimit": 10000
     },
     "inputWidgets": {},
     "nuid": "f8cbc775-e5e4-4692-9951-a349ca3aff0e",
     "showTitle": false,
     "tableResultSettingsMap": {},
     "title": ""
    }
   },
   "outputs": [],
   "source": [
    "# Drop existing table if exists\n",
    "spark.sql(\"DROP TABLE IF EXISTS etl.silver.crm_cust_info\")\n",
    "\n",
    "# Define window for deduplication\n",
    "window_spec = Window.partitionBy(\"cst_id\").orderBy(desc(\"cst_create_date\"))\n",
    "\n",
    "# Read from bronze and apply transformations\n",
    "df = (\n",
    "    spark.read.table(\"etl.bronze.crm_cust_info\")\n",
    "    .filter(col(\"cst_id\").isNotNull())\n",
    "    .withColumn(\"cst_id\", col(\"cst_id\").cast(\"int\"))\n",
    "    .withColumn(\"flag\", row_number().over(window_spec))\n",
    "    .filter(col(\"flag\") == 1)\n",
    "    .drop(\"flag\")\n",
    "    .withColumn(\"cst_firstname\", trim(col(\"cst_firstname\")))\n",
    "    .withColumn(\"cst_lastname\", trim(col(\"cst_lastname\")))\n",
    "    .withColumn(\n",
    "        \"cst_marital_status\",\n",
    "        when(col(\"cst_marital_status\").isNull(), \"n/a\")\n",
    "        .when(trim(col(\"cst_marital_status\")) == \"M\", \"Married\")\n",
    "        .when(trim(col(\"cst_marital_status\")) == \"S\", \"Single\")\n",
    "        .otherwise(\"n/a\"),\n",
    "    )\n",
    "    .withColumn(\n",
    "        \"cst_gndr\",\n",
    "        when(col(\"cst_gndr\").isNull(), \"n/a\")\n",
    "        .when(trim(col(\"cst_gndr\")) == \"M\", \"Male\")\n",
    "        .when(trim(col(\"cst_gndr\")) == \"F\", \"Female\")\n",
    "        .otherwise(\"n/a\"),\n",
    "    )\n",
    "    .withColumn(\"cst_create_date\", to_date(col(\"cst_create_date\"), \"yyyy-MM-dd\"))\n",
    ").orderBy(asc(\"cst_id\"))\n",
    "\n",
    "# Save to silver table\n",
    "df.write.mode(\"overwrite\").format(\"delta\").saveAsTable(\"etl.silver.crm_cust_info\")"
   ]
  },
  {
   "cell_type": "markdown",
   "metadata": {
    "application/vnd.databricks.v1+cell": {
     "cellMetadata": {},
     "inputWidgets": {},
     "nuid": "edb7de36-d868-4e22-87eb-85a4c2ac5017",
     "showTitle": false,
     "tableResultSettingsMap": {},
     "title": ""
    }
   },
   "source": [
    "### Transform `crm_prd_info` table and save to silver"
   ]
  },
  {
   "cell_type": "code",
   "execution_count": 0,
   "metadata": {
    "application/vnd.databricks.v1+cell": {
     "cellMetadata": {
      "byteLimit": 2048000,
      "rowLimit": 10000
     },
     "inputWidgets": {},
     "nuid": "7209bc9f-c499-4391-9391-e2dfa796dd9f",
     "showTitle": false,
     "tableResultSettingsMap": {},
     "title": ""
    }
   },
   "outputs": [],
   "source": [
    "# Drop existing table if exists\n",
    "spark.sql(\"DROP TABLE IF EXISTS etl.silver.crm_prd_info\")\n",
    "\n",
    "df = (\n",
    "    spark.read.table(\"etl.bronze.crm_prd_info\")\n",
    "    .withColumn(\"cat_id\", regexp_replace(substring(col(\"prd_key\"), 1, 5), \"-\", \"_\"))\n",
    "    .withColumn(\"prd_key\", substring(col(\"prd_key\"), 7, length(col(\"prd_key\"))))\n",
    "    .withColumn(\"prd_nm\", trim(col(\"prd_nm\")))\n",
    "    .withColumn(\"prd_cost\", col(\"prd_cost\").cast(\"double\"))\n",
    "    .fillna(0, subset=[\"prd_cost\"])\n",
    "    .withColumn(\n",
    "        \"prd_line\",\n",
    "        when(col(\"prd_line\").isNull(), \"n/a\")\n",
    "        .when(trim(col(\"prd_line\")) == \"M\", \"Mountain\")\n",
    "        .when(trim(col(\"prd_line\")) == \"R\", \"Road\")\n",
    "        .when(trim(col(\"prd_line\")) == \"S\", \"Other sales\")\n",
    "        .when(trim(col(\"prd_line\")) == \"T\", \"Touring\"),\n",
    "    )\n",
    "    .withColumn(\"prd_start_dt\", to_date(col(\"prd_start_dt\"), \"yyyy-MM-dd\"))\n",
    "    .withColumn(\"prd_end_dt\", to_date(col(\"prd_end_dt\"), \"yyyy-MM-dd\"))\n",
    "    .withColumn(\n",
    "        \"prd_end_dt\",\n",
    "        when(\n",
    "            col(\"prd_end_dt\") < col(\"prd_start_dt\"),\n",
    "            lead(\"prd_start_dt\").over(\n",
    "                Window.partitionBy(\"prd_key\").orderBy(asc(\"prd_start_dt\"))\n",
    "            )\n",
    "            - 1,\n",
    "        ).otherwise(col(\"prd_end_dt\")),\n",
    "    )\n",
    ").orderBy(asc(\"prd_id\"))\n",
    "\n",
    "# Save to silver table\n",
    "df.select(\n",
    "    \"prd_id\",\n",
    "    \"prd_key\",\n",
    "    \"cat_id\",\n",
    "    \"prd_nm\",\n",
    "    \"prd_cost\",\n",
    "    \"prd_line\",\n",
    "    \"prd_start_dt\",\n",
    "    \"prd_end_dt\",\n",
    ").write.mode(\"overwrite\").format(\"delta\").saveAsTable(\"etl.silver.crm_prd_info\")"
   ]
  },
  {
   "cell_type": "markdown",
   "metadata": {
    "application/vnd.databricks.v1+cell": {
     "cellMetadata": {},
     "inputWidgets": {},
     "nuid": "5d70f0c9-90e6-412a-b357-5ec56787391e",
     "showTitle": false,
     "tableResultSettingsMap": {},
     "title": ""
    }
   },
   "source": [
    "### Transform `crm_sales_details` table and save to silver"
   ]
  },
  {
   "cell_type": "code",
   "execution_count": 0,
   "metadata": {
    "application/vnd.databricks.v1+cell": {
     "cellMetadata": {
      "byteLimit": 2048000,
      "rowLimit": 10000
     },
     "inputWidgets": {},
     "nuid": "32f8abe3-b23c-4634-a47d-6d78ea0ac78c",
     "showTitle": false,
     "tableResultSettingsMap": {},
     "title": ""
    }
   },
   "outputs": [],
   "source": [
    "# Drop existing table if exists\n",
    "spark.sql(\"DROP TABLE IF EXISTS etl.silver.crm_sales_details\")\n",
    "\n",
    "df = (\n",
    "    spark.read.table(\"etl.bronze.crm_sales_details\")\n",
    "    .withColumn(\"sls_cust_id\", col(\"sls_cust_id\").cast(\"int\"))\n",
    "    .withColumn(\n",
    "        \"sls_order_dt\",\n",
    "        when(\n",
    "            (col(\"sls_order_dt\") == 0) | (length(col(\"sls_order_dt\")) != 8), None\n",
    "        ).otherwise(to_date(col(\"sls_order_dt\"), \"yyyyMMdd\")),\n",
    "    )\n",
    "    .withColumn(\n",
    "        \"sls_ship_dt\",\n",
    "        when(\n",
    "            (col(\"sls_ship_dt\") == 0) | (length(col(\"sls_ship_dt\")) != 8), None\n",
    "        ).otherwise(to_date(col(\"sls_ship_dt\"), \"yyyyMMdd\")),\n",
    "    )\n",
    "    .withColumn(\n",
    "        \"sls_due_dt\",\n",
    "        when(\n",
    "            (col(\"sls_due_dt\") == 0) | (length(col(\"sls_due_dt\")) != 8), None\n",
    "        ).otherwise(to_date(col(\"sls_due_dt\"), \"yyyyMMdd\")),\n",
    "    )\n",
    "    .withColumn(\n",
    "        \"sls_sales\",\n",
    "        when(\n",
    "            (col(\"sls_sales\").cast(\"double\") <= 0)\n",
    "            | (col(\"sls_sales\") != col(\"sls_quantity\") * col(\"sls_price\")),\n",
    "            col(\"sls_quantity\").cast(\"double\") * col(\"sls_price\").cast(\"double\"),\n",
    "        ).otherwise(col(\"sls_sales\").cast(\"double\")),\n",
    "    )\n",
    "    .withColumn(\n",
    "        \"sls_quantity\",\n",
    "        col(\"sls_quantity\").cast(\"double\"),\n",
    "    )\n",
    "    .withColumn(\n",
    "        \"sls_price\",\n",
    "        when(\n",
    "            col(\"sls_price\").cast(\"double\") <= 0, col(\"sls_sales\") / col(\"sls_quantity\")\n",
    "        ).otherwise(col(\"sls_price\").cast(\"double\")),\n",
    "    )\n",
    ")\n",
    "\n",
    "# Save to silver table\n",
    "df.write.mode(\"overwrite\").format(\"delta\").saveAsTable(\"etl.silver.crm_sales_details\")"
   ]
  },
  {
   "cell_type": "markdown",
   "metadata": {
    "application/vnd.databricks.v1+cell": {
     "cellMetadata": {},
     "inputWidgets": {},
     "nuid": "4af214db-13b3-444a-8b0f-6d5b5324658e",
     "showTitle": false,
     "tableResultSettingsMap": {},
     "title": ""
    }
   },
   "source": [
    "### Transform `erp_cust_az12` table and save to silver"
   ]
  },
  {
   "cell_type": "code",
   "execution_count": 0,
   "metadata": {
    "application/vnd.databricks.v1+cell": {
     "cellMetadata": {
      "byteLimit": 2048000,
      "rowLimit": 10000
     },
     "inputWidgets": {},
     "nuid": "e27efdaa-fedf-4f12-a9ec-9d7d15c8da2e",
     "showTitle": false,
     "tableResultSettingsMap": {},
     "title": ""
    }
   },
   "outputs": [],
   "source": [
    "# Drop existing table if exists\n",
    "spark.sql(\"DROP TABLE IF EXISTS etl.silver.erp_cust_az12\")\n",
    "\n",
    "df = (\n",
    "    spark.read.table(\"etl.bronze.erp_cust_az12\")\n",
    "    .withColumn(\n",
    "        \"BDATE\",\n",
    "        when(to_date(col(\"BDATE\")) > current_date(), None).otherwise(\n",
    "            to_date(col(\"BDATE\"))\n",
    "        ),\n",
    "    )\n",
    "    .withColumn(\n",
    "        \"GEN\",\n",
    "        when((trim(col(\"GEN\")) == \"M\") | (trim(col(\"GEN\")) == \"Male\"), \"Male\")\n",
    "        .when((trim(col(\"GEN\")) == \"F\") | (trim(col(\"GEN\")) == \"Female\"), \"Female\")\n",
    "        .otherwise(\"n/a\"),\n",
    "    )\n",
    "    .withColumn(\n",
    "        \"CID\",\n",
    "        when(\n",
    "            col(\"CID\").like(\"NAS%\"), substring(col(\"CID\"), 4, length(col(\"CID\")))\n",
    "        ).otherwise(col(\"CID\")),\n",
    "    )\n",
    ")\n",
    "\n",
    "# Save to silver table\n",
    "df.write.mode(\"overwrite\").format(\"delta\").saveAsTable(\"etl.silver.erp_cust_az12\")"
   ]
  },
  {
   "cell_type": "markdown",
   "metadata": {
    "application/vnd.databricks.v1+cell": {
     "cellMetadata": {},
     "inputWidgets": {},
     "nuid": "8a3c6d43-fc30-48ca-b7da-842ac8117ac4",
     "showTitle": false,
     "tableResultSettingsMap": {},
     "title": ""
    }
   },
   "source": [
    "### Transform `erp_loc_a101` table and save to silver"
   ]
  },
  {
   "cell_type": "code",
   "execution_count": 0,
   "metadata": {
    "application/vnd.databricks.v1+cell": {
     "cellMetadata": {
      "byteLimit": 2048000,
      "rowLimit": 10000
     },
     "inputWidgets": {},
     "nuid": "340b24e5-a6d3-4807-acc5-37a5b79e94b6",
     "showTitle": false,
     "tableResultSettingsMap": {},
     "title": ""
    }
   },
   "outputs": [],
   "source": [
    "# Drop existing table if exists\n",
    "spark.sql(\"DROP TABLE IF EXISTS etl.silver.erp_loc_a101\")\n",
    "\n",
    "df = (\n",
    "    spark.read.table(\"etl.bronze.erp_loc_a101\")\n",
    "    .withColumn(\n",
    "        \"CNTRY\",\n",
    "        when(\n",
    "            (trim(col(\"CNTRY\")) == \"US\") | (trim(col(\"CNTRY\")) == \"USA\"),\n",
    "            \"United States\",\n",
    "        )\n",
    "        .when(trim(col(\"CNTRY\")) == \"DE\", \"Germany\")\n",
    "        .when((trim(col(\"CNTRY\")) == \"\") | col(\"CNTRY\").isNull(), \"n/a\")\n",
    "        .otherwise(trim(col(\"CNTRY\"))),\n",
    "    )\n",
    "    .withColumn(\"CID\", regexp_replace(col(\"CID\"), \"-\", \"\"))\n",
    ")\n",
    "\n",
    "# Save to silver table\n",
    "df.write.mode(\"overwrite\").format(\"delta\").saveAsTable(\"etl.silver.erp_loc_a101\")"
   ]
  },
  {
   "cell_type": "markdown",
   "metadata": {
    "application/vnd.databricks.v1+cell": {
     "cellMetadata": {},
     "inputWidgets": {},
     "nuid": "f268a1e6-5b17-4d85-851a-fde81946139a",
     "showTitle": false,
     "tableResultSettingsMap": {},
     "title": ""
    }
   },
   "source": [
    "### Transform `erp_px_car_g1v2` table and save to silver"
   ]
  },
  {
   "cell_type": "code",
   "execution_count": 0,
   "metadata": {
    "application/vnd.databricks.v1+cell": {
     "cellMetadata": {
      "byteLimit": 2048000,
      "rowLimit": 10000
     },
     "inputWidgets": {},
     "nuid": "bac0d27c-851b-4d66-aa89-a278c026f493",
     "showTitle": false,
     "tableResultSettingsMap": {},
     "title": ""
    }
   },
   "outputs": [],
   "source": [
    "# Drop existing table if exists\n",
    "spark.sql(\"DROP TABLE IF EXISTS etl.silver.erp_px_cat_g1v2\")\n",
    "\n",
    "df = spark.read.table(\"etl.bronze.erp_px_cat_g1v2\")\n",
    "\n",
    "# Save to silver table\n",
    "df.write.mode(\"overwrite\").format(\"delta\").saveAsTable(\"etl.silver.erp_px_cat_g1v2\")"
   ]
  }
 ],
 "metadata": {
  "application/vnd.databricks.v1+notebook": {
   "computePreferences": null,
   "dashboards": [],
   "environmentMetadata": {
    "base_environment": "",
    "environment_version": "2"
   },
   "inputWidgetPreferences": null,
   "language": "python",
   "notebookMetadata": {
    "mostRecentlyExecutedCommandWithImplicitDF": {
     "commandId": 6300200196848597,
     "dataframes": [
      "_sqldf"
     ]
    },
    "pythonIndentUnit": 4
   },
   "notebookName": "load_silver",
   "widgets": {}
  },
  "language_info": {
   "name": "python"
  }
 },
 "nbformat": 4,
 "nbformat_minor": 0
}
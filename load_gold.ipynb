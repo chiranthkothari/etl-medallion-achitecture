{
 "cells": [
  {
   "cell_type": "code",
   "execution_count": 0,
   "metadata": {
    "application/vnd.databricks.v1+cell": {
     "cellMetadata": {
      "byteLimit": 2048000,
      "rowLimit": 10000
     },
     "inputWidgets": {},
     "nuid": "fdda26d3-f622-4902-838b-b900dc943424",
     "showTitle": false,
     "tableResultSettingsMap": {},
     "title": ""
    }
   },
   "outputs": [],
   "source": [
    "from pyspark.sql.functions import *\n",
    "from pyspark.sql.window import Window"
   ]
  },
  {
   "cell_type": "code",
   "execution_count": 0,
   "metadata": {
    "application/vnd.databricks.v1+cell": {
     "cellMetadata": {
      "byteLimit": 2048000,
      "rowLimit": 10000
     },
     "inputWidgets": {},
     "nuid": "1f90ef87-2d47-4e20-ac30-d66063592c80",
     "showTitle": false,
     "tableResultSettingsMap": {},
     "title": ""
    }
   },
   "outputs": [],
   "source": [
    "# Drop existing table if exists\n",
    "spark.sql(\"DROP TABLE IF EXISTS etl.gold.dim_customers\")\n",
    "\n",
    "df_crm_cust_info = spark.read.table(\"etl.silver.crm_cust_info\")\n",
    "df_erp_cust_az12 = spark.read.table(\"etl.silver.erp_cust_az12\")\n",
    "df_erp_loc_a101 = spark.read.table(\"etl.silver.erp_loc_a101\")\n",
    "\n",
    "df = df_crm_cust_info.join(\n",
    "    df_erp_cust_az12, df_crm_cust_info.cst_key == df_erp_cust_az12.CID, \"left\"\n",
    ")\n",
    "df = df.join(df_erp_loc_a101, df_crm_cust_info.cst_key == df_erp_loc_a101.CID, \"left\")\n",
    "\n",
    "df = (\n",
    "    df.withColumn(\"id\", row_number().over(Window.orderBy(col(\"cst_id\"))))\n",
    "    .withColumnRenamed(\"cst_id\", \"customer_id\")\n",
    "    .withColumnRenamed(\"cst_key\", \"customer_key\")\n",
    "    .withColumnRenamed(\"cst_firstname\", \"firstname\")\n",
    "    .withColumnRenamed(\"cst_lastname\", \"lastname\")\n",
    "    .withColumnRenamed(\"cst_marital_status\", \"marital_status\")\n",
    "    .withColumnRenamed(\"cst_create_date\", \"create_date\")\n",
    "    .withColumnRenamed(\"BDATE\", \"birth_date\")\n",
    "    .withColumnRenamed(\"CNTRY\", \"country\")\n",
    "    .withColumn(\n",
    "        \"cst_gndr\",\n",
    "        when(col(\"cst_gndr\") == \"n/a\", col(\"GEN\")).otherwise(col(\"cst_gndr\")),\n",
    "    )\n",
    "    .withColumnRenamed(\"cst_gndr\", \"gender\")\n",
    ")\n",
    "\n",
    "df = (\n",
    "    df.select(\n",
    "        \"id\",\n",
    "        \"customer_id\",\n",
    "        \"customer_key\",\n",
    "        \"firstname\",\n",
    "        \"lastname\",\n",
    "        \"gender\",\n",
    "        \"marital_status\",\n",
    "        \"birth_date\",\n",
    "        \"country\",\n",
    "        \"create_date\",\n",
    "    )\n",
    "    .write.mode(\"overwrite\")\n",
    "    .format(\"delta\")\n",
    "    .saveAsTable(\"etl.gold.dim_customers\")\n",
    ")"
   ]
  },
  {
   "cell_type": "code",
   "execution_count": 0,
   "metadata": {
    "application/vnd.databricks.v1+cell": {
     "cellMetadata": {
      "byteLimit": 2048000,
      "rowLimit": 10000
     },
     "inputWidgets": {},
     "nuid": "4d3a9481-2dd9-4469-a243-2b99defbcace",
     "showTitle": false,
     "tableResultSettingsMap": {},
     "title": ""
    }
   },
   "outputs": [],
   "source": [
    "# Drop existing table if exists\n",
    "spark.sql(\"DROP TABLE IF EXISTS etl.gold.dim_products\")\n",
    "\n",
    "df_crm_prd_info = spark.read.table(\"etl.silver.crm_prd_info\")\n",
    "df_erp_px_cat_g1v2 = spark.read.table(\"etl.silver.erp_px_cat_g1v2\")\n",
    "\n",
    "df = (\n",
    "    df_crm_prd_info.join(\n",
    "        df_erp_px_cat_g1v2, df_crm_prd_info.cat_id == df_erp_px_cat_g1v2.ID, \"left\"\n",
    "    )\n",
    "    .withColumn(\"id\", row_number().over(Window.orderBy(col(\"prd_id\"))))\n",
    "    .withColumnRenamed(\"prd_id\", \"product_id\")\n",
    "    .withColumnRenamed(\"prd_key\", \"product_key\")\n",
    "    .withColumnRenamed(\"cat_id\", \"category_id\")\n",
    "    .withColumnRenamed(\"prd_nm\", \"product_name\")\n",
    "    .withColumnRenamed(\"prd_cost\", \"product_cost\")\n",
    "    .withColumnRenamed(\"prd_line\", \"product_line\")\n",
    "    .withColumnRenamed(\"prd_start_dt\", \"product_start_date\")\n",
    "    .withColumnRenamed(\"prd_end_dt\", \"product_end_date\")\n",
    "    .withColumnRenamed(\"CAT\", \"category\")\n",
    "    .withColumnRenamed(\"SUBCAT\", \"subcategory\")\n",
    "    .withColumnRenamed(\"MAINTENANCE\", \"maintenance\")\n",
    "    .filter(col(\"product_end_date\").isNull())\n",
    ")\n",
    "\n",
    "df.select(\n",
    "    \"id\",\n",
    "    \"product_id\",\n",
    "    \"product_key\",\n",
    "    \"category_id\",\n",
    "    \"product_name\",\n",
    "    \"product_cost\",\n",
    "    \"product_line\",\n",
    "    \"product_start_date\",\n",
    "    \"category\",\n",
    "    \"subcategory\",\n",
    "    \"maintenance\",\n",
    ").write.mode(\"overwrite\").format(\"delta\").saveAsTable(\"etl.gold.dim_products\")"
   ]
  },
  {
   "cell_type": "code",
   "execution_count": 0,
   "metadata": {
    "application/vnd.databricks.v1+cell": {
     "cellMetadata": {
      "byteLimit": 2048000,
      "rowLimit": 10000
     },
     "inputWidgets": {},
     "nuid": "dde8a344-3f0c-4281-b0a5-03f55dfd5da5",
     "showTitle": false,
     "tableResultSettingsMap": {},
     "title": ""
    }
   },
   "outputs": [],
   "source": [
    "# Drop existing table if exists\n",
    "spark.sql(\"DROP TABLE IF EXISTS etl.gold.fact_sales\")\n",
    "\n",
    "df_crm_sales_details = spark.read.table(\"etl.silver.crm_sales_details\")\n",
    "df_crm_cust_info = (\n",
    "    spark.read.table(\"etl.gold.dim_customers\")\n",
    "    .withColumnRenamed(\"id\", \"cust_id\")\n",
    "    .withColumnRenamed(\"customer_id\", \"src_customer_id\")\n",
    "    .select(\"cust_id\", \"src_customer_id\")\n",
    ")\n",
    "df_crm_prd_info = (\n",
    "    spark.read.table(\"etl.gold.dim_products\")\n",
    "    .withColumnRenamed(\"id\", \"prod_id\")\n",
    "    .select(\"prod_id\", \"product_key\")\n",
    ")\n",
    "\n",
    "df = df_crm_sales_details.join(\n",
    "    df_crm_cust_info,\n",
    "    df_crm_sales_details.sls_cust_id == df_crm_cust_info.src_customer_id,\n",
    "    \"left\",\n",
    ").join(\n",
    "    df_crm_prd_info,\n",
    "    df_crm_sales_details.sls_prd_key == df_crm_prd_info.product_key,\n",
    "    \"left\",\n",
    ")\n",
    "df = (\n",
    "    df\n",
    "    .withColumn(\"id\", row_number().over(Window.orderBy(col(\"sls_ord_num\"))))\n",
    "    .withColumnRenamed(\"sls_ord_num\", \"order_id\")\n",
    "    .withColumnRenamed(\"cust_id\", \"customer_id\")\n",
    "    .withColumnRenamed(\"prod_id\", \"product_id\")\n",
    "    .withColumnRenamed(\"sls_order_dt\", \"order_date\")\n",
    "    .withColumnRenamed(\"sls_ship_dt\", \"ship_date\")\n",
    "    .withColumnRenamed(\"sls_due_dt\", \"due_date\")\n",
    "    .withColumnRenamed(\"sls_sales\", \"sales\")\n",
    "    .withColumnRenamed(\"sls_quantity\", \"quantity\")\n",
    "    .withColumnRenamed(\"sls_price\", \"price\")\n",
    ").select(\n",
    "    \"order_id\",\n",
    "    \"customer_id\",\n",
    "    \"product_id\",\n",
    "    \"order_date\",\n",
    "    \"ship_date\",\n",
    "    \"due_date\",\n",
    "    \"sales\",\n",
    "    \"quantity\",\n",
    "    \"price\",\n",
    ")\n",
    "\n",
    "df.write.mode(\"overwrite\").format(\"delta\").saveAsTable(\"etl.gold.fact_sales\")"
   ]
  }
 ],
 "metadata": {
  "application/vnd.databricks.v1+notebook": {
   "computePreferences": null,
   "dashboards": [],
   "environmentMetadata": {
    "base_environment": "",
    "environment_version": "2"
   },
   "inputWidgetPreferences": null,
   "language": "python",
   "notebookMetadata": {
    "pythonIndentUnit": 4
   },
   "notebookName": "load_gold",
   "widgets": {}
  },
  "language_info": {
   "name": "python"
  }
 },
 "nbformat": 4,
 "nbformat_minor": 0
}